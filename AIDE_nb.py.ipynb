{
 "cells": [
  {
   "cell_type": "markdown",
   "id": "64c97682",
   "metadata": {},
   "source": [
    "# Artificial intelligence for Ionospheric perturbations DEtections (AIDE)\n",
    "AIDE allows you to scan vTEC records to detect co-seismic ionospheric perturbations. AIDE software consists of a Machine-Learning based detector, arrival-time picker, and an associator across GNSS satellite networks.\n",
    "\n",
    "Reference paper: Brissaud, Q., & Astafyeva, E. (2021). Near-real-time detection of co-seismic ionospheric disturbances using machine learning. Geophysical Journal International. doi: 10.1093/gji/ggac167\n",
    "\n",
    "<center><img src=\"scheme_ML_improved.png\" width=\"600\"/></center>\n",
    "Figure: AIDE workflow"
   ]
  },
  {
   "cell_type": "code",
   "execution_count": 4,
   "id": "7aa2b2a8",
   "metadata": {},
   "outputs": [],
   "source": [
    "%matplotlib inline\n",
    "import numpy as np\n",
    "from pdb import set_trace as bp\n",
    "import pandas as pd\n",
    "import seaborn as sns\n",
    "\n",
    "import AIDE, detector, compute_params_waveform, read_data, train_est, train_wave_picker, utils_paper, associator, constants"
   ]
  },
  {
   "cell_type": "markdown",
   "id": "4a09c267",
   "metadata": {},
   "source": [
    "## Directories and data/model loading\n",
    "First, select where vTEC data are located and where figures should be generated"
   ]
  },
  {
   "cell_type": "code",
   "execution_count": 10,
   "id": "932d7d9e",
   "metadata": {},
   "outputs": [],
   "source": [
    "## Directories\n",
    "main_dir = '/staff/quentin/Documents/Projects/ML_TEC/'\n",
    "dir_dict = {\n",
    "    'DIR_FIGURES': main_dir + 'figures/',\n",
    "    'DIR_DATA': '/adhocdata/infrasound/2023_ML_TEC/data/'\n",
    "}"
   ]
  },
  {
   "cell_type": "markdown",
   "id": "bbc680fd",
   "metadata": {},
   "source": [
    "Then, add entries to `load_dict` in order to load data and/or models instead of re-generating them. Comment line or remove entry to re-generate."
   ]
  },
  {
   "cell_type": "code",
   "execution_count": 11,
   "id": "406b7ae5",
   "metadata": {},
   "outputs": [],
   "source": [
    "## Loading previously-generated data/models\n",
    "load_dict = {\n",
    "    'est': main_dir + 'figures/model_arr4_noise4_snr1_5.0_pFalse/forest_est_s500.0_m0.7_n1000.0_w720.0.pkl',\n",
    "    'data': main_dir + 'figures/model_arr4_noise4_snr1_5.0_pFalse/data_s500.0_m0.7_n1000.0_w720.0.pkl',\n",
    "    'features': main_dir + 'figures/model_arr4_noise4_snr1_5.0_pFalse/features_features_m0.7_w720.0.csv',\n",
    "    'features-picker': '/adhocdata/infrasound/2023_ML_TEC/data/features_picker_w720.0_d0.7.csv',\n",
    "    'est-picker': main_dir + 'figures/random_est_picker_w720.0_d0.7_bTrue.joblib',\n",
    "    #'detections': main_dir + 'figures/detected_arrivals_Iquique_afterreview_detrend.csv',\n",
    "    #'probas': main_dir + 'figures/probas_all_waveforms_Iquique_afterreview_detrend.csv',\n",
    "    #'associations': main_dir + 'Iquique_afterreview_associations.csv',\n",
    "    #'associations_time_steps': main_dir + 'Iquique_afterreview_associations_time_steps.csv',\n",
    "}"
   ]
  },
  {
   "cell_type": "markdown",
   "id": "b74ab2b4",
   "metadata": {},
   "source": [
    "## Create an AIDE model instance\n",
    "To create a new AIDE model instance, you need to: 1) load vTEC data, 2) create an instance of the ML detector, and 3) create an instance of the ML picker"
   ]
  },
  {
   "cell_type": "code",
   "execution_count": 12,
   "id": "bc916420",
   "metadata": {},
   "outputs": [
    {
     "ename": "KeyError",
     "evalue": "'diff-t'",
     "output_type": "error",
     "traceback": [
      "\u001b[0;31m---------------------------------------------------------------------------\u001b[0m",
      "\u001b[0;31mKeyError\u001b[0m                                  Traceback (most recent call last)",
      "\u001b[0;32m~/miniconda2/envs/seismonpy/lib/python3.7/site-packages/pandas/core/indexes/base.py\u001b[0m in \u001b[0;36mget_loc\u001b[0;34m(self, key, method, tolerance)\u001b[0m\n\u001b[1;32m   3079\u001b[0m             \u001b[0;32mtry\u001b[0m\u001b[0;34m:\u001b[0m\u001b[0;34m\u001b[0m\u001b[0;34m\u001b[0m\u001b[0m\n\u001b[0;32m-> 3080\u001b[0;31m                 \u001b[0;32mreturn\u001b[0m \u001b[0mself\u001b[0m\u001b[0;34m.\u001b[0m\u001b[0m_engine\u001b[0m\u001b[0;34m.\u001b[0m\u001b[0mget_loc\u001b[0m\u001b[0;34m(\u001b[0m\u001b[0mcasted_key\u001b[0m\u001b[0;34m)\u001b[0m\u001b[0;34m\u001b[0m\u001b[0;34m\u001b[0m\u001b[0m\n\u001b[0m\u001b[1;32m   3081\u001b[0m             \u001b[0;32mexcept\u001b[0m \u001b[0mKeyError\u001b[0m \u001b[0;32mas\u001b[0m \u001b[0merr\u001b[0m\u001b[0;34m:\u001b[0m\u001b[0;34m\u001b[0m\u001b[0;34m\u001b[0m\u001b[0m\n",
      "\u001b[0;32mpandas/_libs/index.pyx\u001b[0m in \u001b[0;36mpandas._libs.index.IndexEngine.get_loc\u001b[0;34m()\u001b[0m\n",
      "\u001b[0;32mpandas/_libs/index.pyx\u001b[0m in \u001b[0;36mpandas._libs.index.IndexEngine.get_loc\u001b[0;34m()\u001b[0m\n",
      "\u001b[0;32mpandas/_libs/hashtable_class_helper.pxi\u001b[0m in \u001b[0;36mpandas._libs.hashtable.PyObjectHashTable.get_item\u001b[0;34m()\u001b[0m\n",
      "\u001b[0;32mpandas/_libs/hashtable_class_helper.pxi\u001b[0m in \u001b[0;36mpandas._libs.hashtable.PyObjectHashTable.get_item\u001b[0;34m()\u001b[0m\n",
      "\u001b[0;31mKeyError\u001b[0m: 'diff-t'",
      "\nThe above exception was the direct cause of the following exception:\n",
      "\u001b[0;31mKeyError\u001b[0m                                  Traceback (most recent call last)",
      "\u001b[0;32m<ipython-input-12-5f998c3c9f68>\u001b[0m in \u001b[0;36m<module>\u001b[0;34m\u001b[0m\n\u001b[1;32m      1\u001b[0m \u001b[0;31m## Create detection model\u001b[0m\u001b[0;34m\u001b[0m\u001b[0;34m\u001b[0m\u001b[0;34m\u001b[0m\u001b[0m\n\u001b[1;32m      2\u001b[0m \u001b[0mone_model\u001b[0m \u001b[0;34m=\u001b[0m \u001b[0mAIDE\u001b[0m\u001b[0;34m.\u001b[0m\u001b[0mAIDE\u001b[0m\u001b[0;34m(\u001b[0m\u001b[0mdir_dict\u001b[0m\u001b[0;34m)\u001b[0m\u001b[0;34m\u001b[0m\u001b[0;34m\u001b[0m\u001b[0m\n\u001b[0;32m----> 3\u001b[0;31m \u001b[0mone_model\u001b[0m\u001b[0;34m.\u001b[0m\u001b[0mload_data\u001b[0m\u001b[0;34m(\u001b[0m\u001b[0mload_dict\u001b[0m\u001b[0;34m)\u001b[0m\u001b[0;34m\u001b[0m\u001b[0;34m\u001b[0m\u001b[0m\n\u001b[0m\u001b[1;32m      4\u001b[0m \u001b[0mone_model\u001b[0m\u001b[0;34m.\u001b[0m\u001b[0mload_RF_detector\u001b[0m\u001b[0;34m(\u001b[0m\u001b[0mload_dict\u001b[0m\u001b[0;34m)\u001b[0m\u001b[0;34m\u001b[0m\u001b[0;34m\u001b[0m\u001b[0m\n\u001b[1;32m      5\u001b[0m \u001b[0mone_model\u001b[0m\u001b[0;34m.\u001b[0m\u001b[0mload_RF_picker\u001b[0m\u001b[0;34m(\u001b[0m\u001b[0mload_dict\u001b[0m\u001b[0;34m)\u001b[0m\u001b[0;34m\u001b[0m\u001b[0;34m\u001b[0m\u001b[0m\n",
      "\u001b[0;32m~/Documents/Projects/ML_TEC/clean_code/AIDE.py\u001b[0m in \u001b[0;36mload_data\u001b[0;34m(self, load_dict)\u001b[0m\n\u001b[1;32m     55\u001b[0m \u001b[0;34m\u001b[0m\u001b[0m\n\u001b[1;32m     56\u001b[0m         \u001b[0mself\u001b[0m\u001b[0;34m.\u001b[0m\u001b[0moptions\u001b[0m\u001b[0;34m[\u001b[0m\u001b[0;34m'load'\u001b[0m\u001b[0;34m]\u001b[0m\u001b[0;34m.\u001b[0m\u001b[0mupdate\u001b[0m\u001b[0;34m(\u001b[0m \u001b[0mload_dict\u001b[0m \u001b[0;34m)\u001b[0m\u001b[0;34m\u001b[0m\u001b[0;34m\u001b[0m\u001b[0m\n\u001b[0;32m---> 57\u001b[0;31m         \u001b[0mself\u001b[0m\u001b[0;34m.\u001b[0m\u001b[0mtec_data\u001b[0m\u001b[0;34m,\u001b[0m \u001b[0mself\u001b[0m\u001b[0;34m.\u001b[0m\u001b[0mtec_data_param\u001b[0m \u001b[0;34m=\u001b[0m \u001b[0mread_data\u001b[0m\u001b[0;34m.\u001b[0m\u001b[0mread_data_folders\u001b[0m\u001b[0;34m(\u001b[0m\u001b[0mself\u001b[0m\u001b[0;34m.\u001b[0m\u001b[0moptions\u001b[0m\u001b[0;34m)\u001b[0m\u001b[0;34m\u001b[0m\u001b[0;34m\u001b[0m\u001b[0m\n\u001b[0m\u001b[1;32m     58\u001b[0m \u001b[0;34m\u001b[0m\u001b[0m\n\u001b[1;32m     59\u001b[0m     \u001b[0;32mdef\u001b[0m \u001b[0mload_RF_detector\u001b[0m\u001b[0;34m(\u001b[0m\u001b[0mself\u001b[0m\u001b[0;34m,\u001b[0m \u001b[0mload_dict\u001b[0m\u001b[0;34m)\u001b[0m\u001b[0;34m:\u001b[0m\u001b[0;34m\u001b[0m\u001b[0;34m\u001b[0m\u001b[0m\n",
      "\u001b[0;32m~/Documents/Projects/ML_TEC/clean_code/read_data.py\u001b[0m in \u001b[0;36mread_data_folders\u001b[0;34m(options)\u001b[0m\n\u001b[1;32m   1025\u001b[0m     \u001b[0mtec_data\u001b[0m\u001b[0;34m.\u001b[0m\u001b[0mreset_index\u001b[0m\u001b[0;34m(\u001b[0m\u001b[0mdrop\u001b[0m\u001b[0;34m=\u001b[0m\u001b[0;32mTrue\u001b[0m\u001b[0;34m,\u001b[0m \u001b[0minplace\u001b[0m\u001b[0;34m=\u001b[0m\u001b[0;32mTrue\u001b[0m\u001b[0;34m)\u001b[0m\u001b[0;34m\u001b[0m\u001b[0;34m\u001b[0m\u001b[0m\n\u001b[1;32m   1026\u001b[0m     \u001b[0mtec_data_param\u001b[0m\u001b[0;34m.\u001b[0m\u001b[0mdrop_duplicates\u001b[0m\u001b[0;34m(\u001b[0m\u001b[0minplace\u001b[0m\u001b[0;34m=\u001b[0m\u001b[0;32mTrue\u001b[0m\u001b[0;34m,\u001b[0m \u001b[0msubset\u001b[0m\u001b[0;34m=\u001b[0m\u001b[0;34m[\u001b[0m\u001b[0;34m'event'\u001b[0m\u001b[0;34m,\u001b[0m \u001b[0;34m'satellite'\u001b[0m\u001b[0;34m,\u001b[0m \u001b[0;34m'station'\u001b[0m\u001b[0;34m]\u001b[0m\u001b[0;34m,\u001b[0m \u001b[0mkeep\u001b[0m\u001b[0;34m=\u001b[0m\u001b[0;34m'last'\u001b[0m\u001b[0;34m)\u001b[0m\u001b[0;34m\u001b[0m\u001b[0;34m\u001b[0m\u001b[0m\n\u001b[0;32m-> 1027\u001b[0;31m     \u001b[0mtec_data_param\u001b[0m\u001b[0;34m.\u001b[0m\u001b[0mloc\u001b[0m\u001b[0;34m[\u001b[0m\u001b[0mtec_data_param\u001b[0m\u001b[0;34m[\u001b[0m\u001b[0;34m'diff-t'\u001b[0m\u001b[0;34m]\u001b[0m \u001b[0;34m==\u001b[0m \u001b[0;36m0.\u001b[0m\u001b[0;34m,\u001b[0m \u001b[0;34m:\u001b[0m\u001b[0;34m]\u001b[0m \u001b[0;34m=\u001b[0m \u001b[0moptions\u001b[0m\u001b[0;34m[\u001b[0m\u001b[0;34m'default_duration'\u001b[0m\u001b[0;34m]\u001b[0m\u001b[0;34m\u001b[0m\u001b[0;34m\u001b[0m\u001b[0m\n\u001b[0m\u001b[1;32m   1028\u001b[0m     \u001b[0mtec_data_param\u001b[0m\u001b[0;34m.\u001b[0m\u001b[0mreset_index\u001b[0m\u001b[0;34m(\u001b[0m\u001b[0mdrop\u001b[0m\u001b[0;34m=\u001b[0m\u001b[0;32mTrue\u001b[0m\u001b[0;34m,\u001b[0m \u001b[0minplace\u001b[0m\u001b[0;34m=\u001b[0m\u001b[0;32mTrue\u001b[0m\u001b[0;34m)\u001b[0m\u001b[0;34m\u001b[0m\u001b[0;34m\u001b[0m\u001b[0m\n\u001b[1;32m   1029\u001b[0m \u001b[0;34m\u001b[0m\u001b[0m\n",
      "\u001b[0;32m~/miniconda2/envs/seismonpy/lib/python3.7/site-packages/pandas/core/frame.py\u001b[0m in \u001b[0;36m__getitem__\u001b[0;34m(self, key)\u001b[0m\n\u001b[1;32m   3022\u001b[0m             \u001b[0;32mif\u001b[0m \u001b[0mself\u001b[0m\u001b[0;34m.\u001b[0m\u001b[0mcolumns\u001b[0m\u001b[0;34m.\u001b[0m\u001b[0mnlevels\u001b[0m \u001b[0;34m>\u001b[0m \u001b[0;36m1\u001b[0m\u001b[0;34m:\u001b[0m\u001b[0;34m\u001b[0m\u001b[0;34m\u001b[0m\u001b[0m\n\u001b[1;32m   3023\u001b[0m                 \u001b[0;32mreturn\u001b[0m \u001b[0mself\u001b[0m\u001b[0;34m.\u001b[0m\u001b[0m_getitem_multilevel\u001b[0m\u001b[0;34m(\u001b[0m\u001b[0mkey\u001b[0m\u001b[0;34m)\u001b[0m\u001b[0;34m\u001b[0m\u001b[0;34m\u001b[0m\u001b[0m\n\u001b[0;32m-> 3024\u001b[0;31m             \u001b[0mindexer\u001b[0m \u001b[0;34m=\u001b[0m \u001b[0mself\u001b[0m\u001b[0;34m.\u001b[0m\u001b[0mcolumns\u001b[0m\u001b[0;34m.\u001b[0m\u001b[0mget_loc\u001b[0m\u001b[0;34m(\u001b[0m\u001b[0mkey\u001b[0m\u001b[0;34m)\u001b[0m\u001b[0;34m\u001b[0m\u001b[0;34m\u001b[0m\u001b[0m\n\u001b[0m\u001b[1;32m   3025\u001b[0m             \u001b[0;32mif\u001b[0m \u001b[0mis_integer\u001b[0m\u001b[0;34m(\u001b[0m\u001b[0mindexer\u001b[0m\u001b[0;34m)\u001b[0m\u001b[0;34m:\u001b[0m\u001b[0;34m\u001b[0m\u001b[0;34m\u001b[0m\u001b[0m\n\u001b[1;32m   3026\u001b[0m                 \u001b[0mindexer\u001b[0m \u001b[0;34m=\u001b[0m \u001b[0;34m[\u001b[0m\u001b[0mindexer\u001b[0m\u001b[0;34m]\u001b[0m\u001b[0;34m\u001b[0m\u001b[0;34m\u001b[0m\u001b[0m\n",
      "\u001b[0;32m~/miniconda2/envs/seismonpy/lib/python3.7/site-packages/pandas/core/indexes/base.py\u001b[0m in \u001b[0;36mget_loc\u001b[0;34m(self, key, method, tolerance)\u001b[0m\n\u001b[1;32m   3080\u001b[0m                 \u001b[0;32mreturn\u001b[0m \u001b[0mself\u001b[0m\u001b[0;34m.\u001b[0m\u001b[0m_engine\u001b[0m\u001b[0;34m.\u001b[0m\u001b[0mget_loc\u001b[0m\u001b[0;34m(\u001b[0m\u001b[0mcasted_key\u001b[0m\u001b[0;34m)\u001b[0m\u001b[0;34m\u001b[0m\u001b[0;34m\u001b[0m\u001b[0m\n\u001b[1;32m   3081\u001b[0m             \u001b[0;32mexcept\u001b[0m \u001b[0mKeyError\u001b[0m \u001b[0;32mas\u001b[0m \u001b[0merr\u001b[0m\u001b[0;34m:\u001b[0m\u001b[0;34m\u001b[0m\u001b[0;34m\u001b[0m\u001b[0m\n\u001b[0;32m-> 3082\u001b[0;31m                 \u001b[0;32mraise\u001b[0m \u001b[0mKeyError\u001b[0m\u001b[0;34m(\u001b[0m\u001b[0mkey\u001b[0m\u001b[0;34m)\u001b[0m \u001b[0;32mfrom\u001b[0m \u001b[0merr\u001b[0m\u001b[0;34m\u001b[0m\u001b[0;34m\u001b[0m\u001b[0m\n\u001b[0m\u001b[1;32m   3083\u001b[0m \u001b[0;34m\u001b[0m\u001b[0m\n\u001b[1;32m   3084\u001b[0m         \u001b[0;32mif\u001b[0m \u001b[0mtolerance\u001b[0m \u001b[0;32mis\u001b[0m \u001b[0;32mnot\u001b[0m \u001b[0;32mNone\u001b[0m\u001b[0;34m:\u001b[0m\u001b[0;34m\u001b[0m\u001b[0;34m\u001b[0m\u001b[0m\n",
      "\u001b[0;31mKeyError\u001b[0m: 'diff-t'"
     ]
    }
   ],
   "source": [
    "## Create detection model\n",
    "one_model = AIDE.AIDE(dir_dict)\n",
    "one_model.load_data(load_dict)\n",
    "one_model.load_RF_detector(load_dict)\n",
    "one_model.load_RF_picker(load_dict)"
   ]
  },
  {
   "cell_type": "markdown",
   "id": "6655be93",
   "metadata": {},
   "source": [
    "## Run the detector and arrival-time picker\n",
    "Run the detector with input parameters defined in `detection_options` over satellite network and events defined in `detection_network`.\n",
    "- `nb_picks` (int): Number of picks to use to confirm a detections\n",
    "- `plot_probas` (bool): Whether or not you want to plot the detection probabilities for each input vTEC waveform\n",
    "- `focus_on_arrival` (bool): Whether or not you want to only perform detections around the true detection time. You need `tec_data_param` entries for this.\n",
    "- `focus_arrival_shift` (s, float): If `focus_on_arrival=True`, time window used to extract waveforms\n",
    "- `nb_CPU` (int): Number of CPUs to deploy detections using multiprocessing"
   ]
  },
  {
   "cell_type": "code",
   "execution_count": null,
   "id": "b046e32f",
   "metadata": {},
   "outputs": [],
   "source": [
    "## Perform detection\n",
    "detection_network = {\n",
    "    'name': 'test',\n",
    "    'events': ['Tohoku_1s'],\n",
    "    'satellites': ['G26'],\n",
    "    'stations': one_model.tec_data.loc[one_model.tec_data['event'].isin( ['Tohoku_1s'] ) & one_model.tec_data['satellite'].isin( ['G26'] ), 'station'].unique().tolist()[:5],\n",
    "    'time_end': one_model.tec_data.loc[one_model.tec_data['event'].isin( ['Tohoku_1s'] ), 'time_s'].max()\n",
    "}\n",
    "\n",
    "detection_options = { \n",
    "    'nb_picks': 5, \n",
    "    'plot_probas': True, \n",
    "    'focus_on_arrival': False, \n",
    "    'focus_arrival_shift': 1000., \n",
    "    'nb_CPU': 20\n",
    "}\n",
    "one_model.run_detections(load_dict, detection_network, **detection_options)"
   ]
  },
  {
   "cell_type": "markdown",
   "id": "2f9a949f",
   "metadata": {},
   "source": [
    "## Run the associator\n",
    "Run the associator with the inputs parameters provided in `association_options`.\n",
    "- `max_radius_search` (m, float): Maximum distance between two ionospheric points for association\n",
    "- `velocity_search_max` (km/s, float): Maximum horizontal propagation velocity between two ionospheric points for association\n",
    "- `velocity_search_min` (km/s, float): Minimum horizontal propagation velocity between two ionospheric points for association\n",
    "- `save_associations` (bool): Whether or not you want to save the `DataFrame` containing associated arrivals\n",
    "- `association_name` (str): Name for this association dataset"
   ]
  },
  {
   "cell_type": "code",
   "execution_count": null,
   "id": "55e753e6",
   "metadata": {},
   "outputs": [],
   "source": [
    "## Create association list\n",
    "association_options = {\n",
    "    'max_radius_search': 500., \n",
    "    'velocity_search_max': 50., \n",
    "    'velocity_search_min': 0.65, \n",
    "    'save_associations': True, \n",
    "    'association_name': 'test'\n",
    "}\n",
    "one_model.run_association(load_dict, **association_options)"
   ]
  },
  {
   "cell_type": "code",
   "execution_count": null,
   "id": "a5804f94",
   "metadata": {},
   "outputs": [],
   "source": [
    "## Create Figure\n",
    "first_detections = utils_paper.create_arrival_time_plot(one_model.detections, one_model.options, offset=500., nb_pts_picker=5, quantile_threshold=0.8)\n",
    "utils_paper.plot_image_iono(one_model.tec_data, one_model.tec_data_param, first_detections, one_model.options, associations=one_model.associations, add_fault=False, add_inset_fault=False, unknown='slip', rotation=25., vmin=6., vmax=11., offset_source_lat=8., offset_source_lon=8., first_label='d', hion_dict={}, add_new_waveform={}, add_new_waveform_class={}, ext_name='_test')"
   ]
  }
 ],
 "metadata": {
  "kernelspec": {
   "display_name": "Python 3",
   "language": "python",
   "name": "python3"
  },
  "language_info": {
   "codemirror_mode": {
    "name": "ipython",
    "version": 3
   },
   "file_extension": ".py",
   "mimetype": "text/x-python",
   "name": "python",
   "nbconvert_exporter": "python",
   "pygments_lexer": "ipython3",
   "version": "3.7.9"
  }
 },
 "nbformat": 4,
 "nbformat_minor": 5
}
